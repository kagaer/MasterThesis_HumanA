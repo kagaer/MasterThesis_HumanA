{
 "cells": [
  {
   "cell_type": "code",
   "execution_count": 1,
   "id": "3ff013fb",
   "metadata": {},
   "outputs": [],
   "source": [
    "import copy\n",
    "import pandas as pd\n",
    "import json\n",
    "import sqlite3\n",
    "from pathlib import Path"
   ]
  },
  {
   "cell_type": "code",
   "execution_count": 2,
   "id": "967f2188",
   "metadata": {},
   "outputs": [],
   "source": [
    "# select here if you already put the avatar information in the database\n",
    "avatars_in_DB = True"
   ]
  },
  {
   "cell_type": "code",
   "execution_count": 3,
   "id": "345aa6c4",
   "metadata": {},
   "outputs": [
    {
     "name": "stdout",
     "output_type": "stream",
     "text": [
      "For which experiment would you like to add Data to the Database?\n"
     ]
    }
   ],
   "source": [
    "print(\"For which experiment would you like to add Data to the Database?\")\n",
    "experiment = int(input())\n",
    "if experiment == 1:\n",
    "    db_path = Path('E:/HumanA/Data/DataBase/HumanA_Exp1.db')\n",
    "    path = Path('E:/HumanA/Data/Exp1/AllAvatarsList_Coordinates_Exp1.json')\n",
    "elif experiment == 2:\n",
    "    db_path = Path('E:/HumanA/Data/DataBase/HumanA_Exp2.db')\n",
    "    path = Path('E:/HumanA/Data/Exp2/AllAvatarsList_Coordinates_Exp2.json')"
   ]
  },
  {
   "cell_type": "code",
   "execution_count": 4,
   "id": "d77b6552",
   "metadata": {},
   "outputs": [],
   "source": [
    "def avatarInDB(avatarID):\n",
    "    # instruction to select all data from database\n",
    "    sql_instruction = \"\"\"\n",
    "    SELECT AvatarID FROM avatars\n",
    "    \"\"\"\n",
    "\n",
    "    # show result\n",
    "    cr.execute(sql_instruction)\n",
    "    content = cr.fetchall()\n",
    "    if (avatarID,) in content:\n",
    "        return True\n",
    "    else:\n",
    "        return False"
   ]
  },
  {
   "cell_type": "code",
   "execution_count": 5,
   "id": "5e04f100",
   "metadata": {},
   "outputs": [],
   "source": [
    "def _extract_avatars(avatar):\n",
    "    def get(field:str):\n",
    "        if '_x' in field:\n",
    "            return avatar[field[:-2]]['x']\n",
    "        elif '_y' in field:\n",
    "            return avatar[field[:-2]]['y']\n",
    "        elif '_z' in field:\n",
    "            return avatar[field[:-2]]['z']\n",
    "        else:\n",
    "            return avatar[field]\n",
    "    return (get(field)for field in AVATAR_FIELDS)"
   ]
  },
  {
   "cell_type": "code",
   "execution_count": 6,
   "id": "8d17c771",
   "metadata": {},
   "outputs": [],
   "source": [
    "if not db_path or not db_path.exists():\n",
    "    db_path = ':memory:'\n",
    "\n",
    "\n",
    "if not path.exists():\n",
    "    raise Exception('Path not exists')  "
   ]
  },
  {
   "cell_type": "code",
   "execution_count": 7,
   "id": "f68ba8a1",
   "metadata": {},
   "outputs": [],
   "source": [
    "connection=sqlite3.connect(db_path)\n",
    "cr=connection.cursor()"
   ]
  },
  {
   "cell_type": "code",
   "execution_count": 8,
   "id": "e8ce9505",
   "metadata": {},
   "outputs": [],
   "source": [
    "AVATAR_FIELDS = (\n",
    "    'AvatarCenterWorld_x',\n",
    "    'AvatarCenterWorld_y',\n",
    "    'AvatarCenterWorld_z',\n",
    "    'AvatarPositionGlobal_x',\n",
    "    'AvatarPositionGlobal_y',\n",
    "    'AvatarPositionGlobal_z',\n",
    "    'AvatarPositionLocal_x',\n",
    "    'AvatarPositionLocal_y',\n",
    "    'AvatarPositionLocal_z',\n",
    "    'AvatarRotationGlobal_x',\n",
    "    'AvatarRotationGlobal_y',\n",
    "    'AvatarRotationGlobal_z',\n",
    "    'AvatarRotationLocal_x',\n",
    "    'AvatarRotationLocal_y',\n",
    "    'AvatarRotationLocal_z',\n",
    "    'AvatarRotationVector3Global_x',\n",
    "    'AvatarRotationVector3Global_y',\n",
    "    'AvatarRotationVector3Global_z',\n",
    "    'AvatarRotationVector3Local_x',\n",
    "    'AvatarRotationVector3Local_y',\n",
    "    'AvatarRotationVector3Local_z',\n",
    "    'AvatarLossyScale_x',\n",
    "    'AvatarLossyScale_y',\n",
    "    'AvatarLossyScale_z',\n",
    "    'AvatarLocalScale_x',\n",
    "    'AvatarLocalScale_y',\n",
    "    'AvatarLocalScale_z',\n",
    "    'AvatarForwardDirection_x',\n",
    "    'AvatarForwardDirection_y',\n",
    "    'AvatarForwardDirection_z',\n",
    "    'AvatarUpDirection_x',\n",
    "    'AvatarUpDirection_y',\n",
    "    'AvatarUpDirection_z',\n",
    "    'AvatarRightDirection_x',\n",
    "    'AvatarRightDirection_y',\n",
    "    'AvatarRightDirection_z',\n",
    ")"
   ]
  },
  {
   "cell_type": "code",
   "execution_count": 9,
   "id": "45008160",
   "metadata": {},
   "outputs": [
    {
     "data": {
      "text/plain": [
       "<sqlite3.Cursor at 0x229cad26490>"
      ]
     },
     "execution_count": 9,
     "metadata": {},
     "output_type": "execute_result"
    }
   ],
   "source": [
    "# create instruction for creating table with avatar coordinates\n",
    "avatar_structure = ',\\n'.join(f\"{field} NUMERIC\" for field in AVATAR_FIELDS)\n",
    "sql_instruction = f\"\"\"\n",
    "CREATE TABLE IF NOT EXISTS avatars(\n",
    "AvatarID INTEGER NOT NULL UNIQUE,\n",
    "AvatarName TEXT,\n",
    "{avatar_structure},\n",
    "Category INTEGER,\n",
    "PRIMARY KEY(\"AvatarID\")\n",
    ");\n",
    "\n",
    "\"\"\"\n",
    "\n",
    "cr.execute(sql_instruction)"
   ]
  },
  {
   "cell_type": "code",
   "execution_count": 10,
   "id": "63000a4c",
   "metadata": {},
   "outputs": [],
   "source": [
    "if __name__ == '__main__':\n",
    "\n",
    "    if not avatars_in_DB:\n",
    "\n",
    "        with open(path) as file:\n",
    "            data = json.load(file)\n",
    "\n",
    "        values = (\n",
    "                    str((data[avatar]['AvatarID'], data[avatar]['AvatarName'],) + \n",
    "                        tuple(_extract_avatars(avatar=data[avatar])))\n",
    "                        for avatar in data\n",
    "                )\n",
    "\n",
    "        sql_instruction = f\"\"\"INSERT INTO avatars\n",
    "                            (AvatarID, AvatarName, {', '.join(AVATAR_FIELDS)})\n",
    "                            VALUES {','.join(values)}\n",
    "                            ;\"\"\"\n",
    "\n",
    "        cr.execute(sql_instruction)\n",
    "\n",
    "        connection.commit()\n",
    "\n",
    "\n",
    "        sql_instruction = \"\"\"\n",
    "            UPDATE avatars \n",
    "            SET Category = 0 \n",
    "            WHERE AvatarName LIKE '%Sa%'\n",
    "        \"\"\"\n",
    "        cr.execute(sql_instruction)\n",
    "\n",
    "        sql_instruction = \"\"\"\n",
    "            UPDATE avatars \n",
    "            SET Category = 1 \n",
    "            WHERE AvatarName LIKE '%Cma%'\n",
    "        \"\"\"\n",
    "        cr.execute(sql_instruction)\n",
    "        connection.commit()\n",
    "        connection.close()"
   ]
  }
 ],
 "metadata": {
  "kernelspec": {
   "display_name": "base",
   "language": "python",
   "name": "python3"
  },
  "language_info": {
   "codemirror_mode": {
    "name": "ipython",
    "version": 3
   },
   "file_extension": ".py",
   "mimetype": "text/x-python",
   "name": "python",
   "nbconvert_exporter": "python",
   "pygments_lexer": "ipython3",
   "version": "3.9.7"
  },
  "vscode": {
   "interpreter": {
    "hash": "fb3ab638812014d3d7f6ef66d3cc7c10505ff62b5005bbba33ec774bf51cc901"
   }
  }
 },
 "nbformat": 4,
 "nbformat_minor": 5
}
