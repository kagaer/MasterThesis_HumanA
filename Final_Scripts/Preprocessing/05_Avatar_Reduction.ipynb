{
 "cells": [
  {
   "cell_type": "code",
   "execution_count": 1,
   "id": "283be0e2",
   "metadata": {},
   "outputs": [],
   "source": [
    "import sqlite3\n",
    "from pathlib import Path\n",
    "import numpy as np"
   ]
  },
  {
   "cell_type": "code",
   "execution_count": 2,
   "id": "fc835418",
   "metadata": {},
   "outputs": [
    {
     "name": "stdout",
     "output_type": "stream",
     "text": [
      "For which experiment would you get the graph elements for coordinates?\n"
     ]
    }
   ],
   "source": [
    "# path to databases\n",
    "print(\"For which experiment would you get the graph elements for coordinates?\")\n",
    "experiment = int(input())\n",
    "if experiment == 1:\n",
    "    db_path = Path('E:/HumanA/Data/DataBase/HumanA_Exp1.db')\n",
    "    #db_path = Path('E:/HumanA/Data/HumanA_Exp1_WorkingData.db')\n",
    "elif experiment == 2:\n",
    "    db_path = Path('E:/HumanA/Data/DataBase/HumanA_Exp2.db')\n",
    "    #db_path = Path('E:/HumanA/Data/HumanA_Exp2_WorkingData.db')\n",
    "if not db_path or not db_path.exists():\n",
    "    db_path = ':memory:'"
   ]
  },
  {
   "cell_type": "code",
   "execution_count": 3,
   "id": "8fcc19df",
   "metadata": {},
   "outputs": [],
   "source": [
    "# connect to database\n",
    "connection=sqlite3.connect(db_path)\n",
    "cr=connection.cursor()"
   ]
  },
  {
   "cell_type": "code",
   "execution_count": 4,
   "id": "c6a5387a",
   "metadata": {},
   "outputs": [],
   "source": [
    "def create_reduced_avatar_table():\n",
    "    sql_instruction = \"\"\"CREATE TABLE IF NOT EXISTS \"avatars_reduced\"(\n",
    "        Id INTEGER NOT NULL UNIQUE,\n",
    "        AvatarId NUMERIC NOT NULL,\n",
    "        AvatarName TEXT,\n",
    "        AvatarPositionGlobal_x NUMERIC,\n",
    "        AvatarPositionGlobal_y NUMERIC,\n",
    "        AvatarPositionGlobal_z NUMERIC,\n",
    "        AvatarCategory NUMERIC,\n",
    "        coor_converted_x NUMERIC,\n",
    "        coor_converted_z NUMERIC,\n",
    "        coor_converted_precise_x NUMERIC,\n",
    "        coor_converted_precise_z NUMERIC,\n",
    "        graph_element_type TEXT,\n",
    "        node NUMERIC,\n",
    "        edge_start NUMERIC,\n",
    "        edge_end NUMERIC,\n",
    "        PRIMARY KEY (\"Id\" AUTOINCREMENT)\n",
    "        FOREIGN KEY(AvatarId) REFERENCES avatars(AvatarId)\n",
    "        FOREIGN KEY(node) REFERENCES graph_coordinates(nodeNr)\n",
    "        FOREIGN KEY(edge_start) REFERENCES graph_coordinates(edgeStart)\n",
    "        FOREIGN KEY(edge_end) REFERENCES graph_coordinates(edgeEnd)\n",
    "        );\n",
    "        \"\"\"\n",
    "    cr.execute(sql_instruction)\n",
    "    connection.commit()"
   ]
  },
  {
   "cell_type": "code",
   "execution_count": 5,
   "id": "dbac2054",
   "metadata": {},
   "outputs": [],
   "source": [
    "def get_avatar_information():\n",
    "    sql_instruction = f\"\"\"SELECT AvatarID, AvatarName, AvatarPositionGlobal_x,  AvatarPositionGlobal_y, \n",
    "        AvatarPositionGlobal_z, Category FROM avatars\"\"\"\n",
    "    cr.execute(sql_instruction)\n",
    "    avatars = cr.fetchall()\n",
    "    return avatars"
   ]
  },
  {
   "cell_type": "code",
   "execution_count": 6,
   "id": "0fdb7745",
   "metadata": {},
   "outputs": [],
   "source": [
    "#def getMinMaxValues():\n",
    "#    # select xMin\n",
    "#    sql_instruction = \"\"\"\n",
    "#    SELECT MIN(playerBodyPosition_x) FROM data_points;\n",
    "#    \"\"\"\n",
    "#    cr.execute(sql_instruction)\n",
    "#    xMin = cr.fetchone()\n",
    "#    xMin = round(xMin[0],2)\n",
    "#\n",
    "#    # select xMax\n",
    "#    sql_instruction = \"\"\"\n",
    "#    SELECT MAX(playerBodyPosition_x) FROM data_points;\n",
    "#    \"\"\"\n",
    "#    cr.execute(sql_instruction)\n",
    "#    xMax = cr.fetchone()\n",
    "#    xMax = round(xMax[0],2)\n",
    "#\n",
    "#    # select zMin\n",
    "#    sql_instruction = \"\"\"\n",
    "#    SELECT MIN(playerBodyPosition_z) FROM data_points;\n",
    "#    \"\"\"\n",
    "#    cr.execute(sql_instruction)\n",
    "#    zMin = cr.fetchone()\n",
    "#    zMin = round(zMin[0],2)\n",
    "#\n",
    "#    # select zMax\n",
    "#    sql_instruction = \"\"\"\n",
    "#    SELECT MAX(playerBodyPosition_z) FROM data_points;\n",
    "#    \"\"\"\n",
    "#    cr.execute(sql_instruction)\n",
    "#    zMax = cr.fetchone()\n",
    "#    zMax = round(zMax[0],2)\n",
    "#\n",
    "#    return xMin, xMax, zMin, zMax"
   ]
  },
  {
   "cell_type": "code",
   "execution_count": 7,
   "id": "4ac06956",
   "metadata": {},
   "outputs": [],
   "source": [
    "def convert_coordinate(coordinate, meters):\n",
    "    step = meters\n",
    "    x = int((np.abs(xMin) + coordinate[0]) / step)\n",
    "    y = int((np.abs(zMin) + coordinate[1]) / step)\n",
    "    return x, y"
   ]
  },
  {
   "cell_type": "code",
   "execution_count": 8,
   "id": "e6cdb920",
   "metadata": {},
   "outputs": [],
   "source": [
    "def convert_coordinate_more_precise(coordinate, meters):\n",
    "    step = meters\n",
    "    x = (np.abs(xMin) + coordinate[0]) / step\n",
    "    y = (np.abs(zMin) + coordinate[1]) / step\n",
    "    return x, y"
   ]
  },
  {
   "cell_type": "code",
   "execution_count": 9,
   "id": "0119cc57",
   "metadata": {},
   "outputs": [],
   "source": [
    "create_reduced_avatar_table()"
   ]
  },
  {
   "cell_type": "code",
   "execution_count": 10,
   "id": "22f606b6",
   "metadata": {},
   "outputs": [],
   "source": [
    "def get_min_dist_nodes(x_coor, z_coor):\n",
    "    \n",
    "    sql_instruction = f\"\"\"SELECT DISTINCT graph_element_type, nodeNr, nodeCentroid_x, nodeCentroid_z, nodeRadius, ABS(({x_coor} - graph_coordinates.nodeCentroid_x)*({x_coor} - graph_coordinates.nodeCentroid_x) + \n",
    "            ({z_coor} - graph_coordinates.nodeCentroid_z)*({z_coor} - graph_coordinates.nodeCentroid_z)) AS Distance\n",
    "        FROM graph_coordinates \n",
    "        WHERE ABS(({x_coor} - graph_coordinates.nodeCentroid_x)*({x_coor} - graph_coordinates.nodeCentroid_x) + \n",
    "                ({z_coor} - graph_coordinates.nodeCentroid_z)*({z_coor} - graph_coordinates.nodeCentroid_z)) = (\n",
    "                SELECT MIN(ABS(({x_coor} - graph_coordinates.nodeCentroid_x)*({x_coor} - graph_coordinates.nodeCentroid_x) + \n",
    "                    ({z_coor} - graph_coordinates.nodeCentroid_z)*({z_coor} - graph_coordinates.nodeCentroid_z))) \n",
    "                FROM graph_coordinates\n",
    "                WHERE ABS(({x_coor} - graph_coordinates.nodeCentroid_x)*({x_coor} - graph_coordinates.nodeCentroid_x) + \n",
    "                ({z_coor} - graph_coordinates.nodeCentroid_z)*({z_coor} - graph_coordinates.nodeCentroid_z)) <= graph_coordinates.nodeRadius*graph_coordinates.nodeRadius)\"\"\"\n",
    "    cr.execute(sql_instruction)\n",
    "    minNodes = cr.fetchall()\n",
    "    if len(minNodes) == 1:\n",
    "        min_node = minNodes[0]\n",
    "    else:\n",
    "        min_node = []\n",
    "    return min_node"
   ]
  },
  {
   "cell_type": "code",
   "execution_count": 11,
   "id": "d679ee8e",
   "metadata": {},
   "outputs": [],
   "source": [
    "def get_min_dist_edges(x_coor, z_coor):\n",
    "    \n",
    "    sql_instruction = f\"\"\"SELECT DISTINCT graph_element_type, edgeStart,edgeEnd, X_Coor, Z_Coor, ABS(({x_coor} - graph_coordinates.X_Coor)*\n",
    "                        ({x_coor} - graph_coordinates.X_Coor) + ({z_coor} - graph_coordinates.Z_Coor)*\n",
    "                        ({z_coor} - graph_coordinates.Z_Coor)) AS Distance\n",
    "        FROM graph_coordinates \n",
    "        WHERE ABS(({x_coor} - graph_coordinates.X_Coor)*({x_coor} - graph_coordinates.X_Coor) + \n",
    "                ({z_coor} - graph_coordinates.Z_Coor)*({z_coor} - graph_coordinates.Z_Coor)) = (\n",
    "                SELECT MIN(ABS(({x_coor} - graph_coordinates.X_Coor)*({x_coor} - graph_coordinates.X_Coor) + \n",
    "                    ({z_coor} - graph_coordinates.Z_Coor)*({z_coor} - graph_coordinates.Z_Coor))) \n",
    "                FROM graph_coordinates\n",
    "                WHERE graph_element_type = 'Edge')\"\"\"\n",
    "    #print(sql_instruction)\n",
    "    cr.execute(sql_instruction)\n",
    "    minEdges = cr.fetchall()\n",
    "    if len(minEdges) == 1:\n",
    "        minEdge = minEdges[0]\n",
    "    else:\n",
    "        minEdge = []\n",
    "    return minEdge"
   ]
  },
  {
   "cell_type": "code",
   "execution_count": 12,
   "id": "63018efb",
   "metadata": {},
   "outputs": [],
   "source": [
    "def getClosestGraphElement(xCoor,zCoor):\n",
    "    closestElement = get_min_dist_nodes(xCoor,zCoor)\n",
    "    if closestElement == []:\n",
    "        closestElement = get_min_dist_edges(xCoor,zCoor)\n",
    "    return closestElement "
   ]
  },
  {
   "cell_type": "code",
   "execution_count": 13,
   "id": "d942033f",
   "metadata": {},
   "outputs": [],
   "source": [
    "avatars = get_avatar_information()\n",
    "xMin, xMax, zMin, zMax = -442.87, 439.76, -280.14, 301.68\n",
    "for avatar in avatars:\n",
    "    avatarId, avatarName, GlobalxCoor, GlobalyCoor, GlobalzCoor, Category = avatar\n",
    "    \n",
    "    coor_conv = convert_coordinate([GlobalxCoor,GlobalzCoor], 4)\n",
    "    coor_conv_prec = convert_coordinate_more_precise([GlobalxCoor,GlobalzCoor], 4)\n",
    "    \n",
    "    closestElement = getClosestGraphElement(coor_conv_prec[0], coor_conv_prec[1])\n",
    "    if closestElement != []:\n",
    "        element_type = closestElement[0] \n",
    "        if element_type == 'Node':\n",
    "            node = closestElement[1]\n",
    "            values = str((avatarId,avatarName,GlobalxCoor, GlobalyCoor, GlobalzCoor, Category, coor_conv[0], \n",
    "              coor_conv[1], coor_conv_prec[0], coor_conv_prec[1], element_type,node))\n",
    "            sql_instruction = f\"\"\"INSERT INTO avatars_reduced (AvatarId, AvatarName, AvatarPositionGlobal_x, \n",
    "                        AvatarPositionGlobal_y, AvatarPositionGlobal_z, AvatarCategory, coor_converted_x, \n",
    "                        coor_converted_z, coor_converted_precise_x, coor_converted_precise_z, graph_element_type, node)\n",
    "                        VALUES {values};\"\"\"\n",
    "        elif element_type == 'Edge':\n",
    "            edgeStart = closestElement[1]\n",
    "            edgeEnd = closestElement[2]\n",
    "            values = str((avatarId,avatarName,GlobalxCoor, GlobalyCoor, GlobalzCoor, Category, coor_conv[0], \n",
    "              coor_conv[1], coor_conv_prec[0], coor_conv_prec[1], element_type,edgeStart,edgeEnd))\n",
    "            sql_instruction = f\"\"\"INSERT INTO avatars_reduced (AvatarId, AvatarName, AvatarPositionGlobal_x, \n",
    "                        AvatarPositionGlobal_y, AvatarPositionGlobal_z, AvatarCategory, coor_converted_x, \n",
    "                        coor_converted_z, coor_converted_precise_x, coor_converted_precise_z, graph_element_type, \n",
    "                        edge_start,edge_end)\n",
    "                        VALUES {values};\"\"\"\n",
    "            #print(sql_instruction)\n",
    "    else:\n",
    "        values = str((avatarId,avatarName,GlobalxCoor, GlobalyCoor, GlobalzCoor, Category, coor_conv[0], \n",
    "                      coor_conv[1], coor_conv_prec[0], coor_conv_prec[1]))\n",
    "\n",
    "        sql_instruction = f\"\"\"INSERT INTO avatars_reduced (AvatarId, AvatarName, AvatarPositionGlobal_x, \n",
    "                            AvatarPositionGlobal_y, AvatarPositionGlobal_z, AvatarCategory, coor_converted_x, \n",
    "                            coor_converted_z, coor_converted_precise_x, coor_converted_precise_z)\n",
    "                            VALUES {values};\"\"\"\n",
    "    cr.execute(sql_instruction)\n",
    "connection.commit()\n",
    "connection.close()"
   ]
  },
  {
   "cell_type": "code",
   "execution_count": 14,
   "id": "1818e9be",
   "metadata": {},
   "outputs": [],
   "source": [
    "connection.close()"
   ]
  },
  {
   "cell_type": "code",
   "execution_count": null,
   "id": "e59e45dd",
   "metadata": {},
   "outputs": [],
   "source": []
  }
 ],
 "metadata": {
  "kernelspec": {
   "display_name": "Python 3 (ipykernel)",
   "language": "python",
   "name": "python3"
  },
  "language_info": {
   "codemirror_mode": {
    "name": "ipython",
    "version": 3
   },
   "file_extension": ".py",
   "mimetype": "text/x-python",
   "name": "python",
   "nbconvert_exporter": "python",
   "pygments_lexer": "ipython3",
   "version": "3.9.7"
  }
 },
 "nbformat": 4,
 "nbformat_minor": 5
}
