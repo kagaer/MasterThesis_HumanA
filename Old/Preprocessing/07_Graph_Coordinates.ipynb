{
 "cells": [
  {
   "cell_type": "code",
   "execution_count": 19,
   "id": "7093803b",
   "metadata": {},
   "outputs": [],
   "source": [
    "import sqlite3\n",
    "from pathlib import Path\n",
    "import sknw\n",
    "from skimage.morphology import skeletonize\n",
    "import networkx as nx\n",
    "import numpy as np"
   ]
  },
  {
   "cell_type": "code",
   "execution_count": 20,
   "id": "a51fc747",
   "metadata": {},
   "outputs": [
    {
     "name": "stdout",
     "output_type": "stream",
     "text": [
      "For which experiment would you like to reduce the data?\n",
      "2\n"
     ]
    }
   ],
   "source": [
    "# path to databases\n",
    "print(\"For which experiment would you like to reduce the data?\")\n",
    "experiment = int(input())\n",
    "if experiment == 1:\n",
    "    db_path = Path('E:/HumanA/Data/DataBase/HumanA_Exp1.db')\n",
    "    #db_path = Path('E:/HumanA/Data/HumanA_Exp1_WorkingData.db')\n",
    "elif experiment == 2:\n",
    "    db_path = Path('E:/HumanA/Data/DataBase/HumanA_Exp2.db')\n",
    "    #db_path = Path('E:/HumanA/Data/HumanA_Exp2_WorkingData.db')\n",
    "\n",
    "if not db_path or not db_path.exists():\n",
    "    db_path = ':memory:'"
   ]
  },
  {
   "cell_type": "code",
   "execution_count": 21,
   "id": "19c48fac",
   "metadata": {},
   "outputs": [],
   "source": [
    "# connect to database\n",
    "connection=sqlite3.connect(db_path)\n",
    "cr=connection.cursor()"
   ]
  },
  {
   "cell_type": "code",
   "execution_count": 22,
   "id": "83f04519",
   "metadata": {},
   "outputs": [],
   "source": [
    "def create_graph_coor_db_table():\n",
    "    # create a table that stores the graph coordinates information\n",
    "    sql_instruction = \"\"\"\n",
    "    CREATE TABLE IF NOT EXISTS \"graph_coordinates\"(\n",
    "    \"Id\" INTEGER NOT NULL UNIQUE,\n",
    "    \"GraphId\" INTEGER NOT NULL,\n",
    "    \"graph_element_type\" TEXT,\n",
    "    \"nodeNr\" NUMERIC,\n",
    "    \"nodeCentroid_x\" NUMERIC,\n",
    "    \"nodeCentroid_z\" NUMERIC,\n",
    "    \"nodeRadius\" NUMERIC,\n",
    "    \"edgeStart\" NUMERIC,\n",
    "    \"edgeEnd\" NUMERIC,\n",
    "    \"X_Coor\" NUMERIC,\n",
    "    \"Z_Coor\" NUMERIC,\n",
    "    PRIMARY KEY (\"Id\" AUTOINCREMENT)\n",
    "    FOREIGN KEY(GraphId) REFERENCES graph_information(Id)\n",
    "    );\n",
    "    \"\"\"\n",
    "    cr.execute(sql_instruction)\n",
    "    connection.commit()"
   ]
  },
  {
   "cell_type": "code",
   "execution_count": 23,
   "id": "8d5252cc",
   "metadata": {},
   "outputs": [],
   "source": [
    "def create_node_neighbours_table():\n",
    "    # create a table that stores the graph coordinates information\n",
    "    sql_instruction = \"\"\"\n",
    "    CREATE TABLE IF NOT EXISTS \"node_neighbours\"(\n",
    "    \"FirstNode\" INTEGER NOT NULL,\n",
    "    \"SecondNode\" INTEGER NOT NULL,\n",
    "    PRIMARY KEY (\"FirstNode\", \"SecondNode\" )\n",
    "    FOREIGN KEY(FirstNode) REFERENCES graph_coordinates(nodeNr)\n",
    "\tFOREIGN KEY(SecondNode) REFERENCES graph_coordinates(nodeNr)\n",
    "    );\n",
    "    \"\"\"\n",
    "    cr.execute(sql_instruction)\n",
    "    connection.commit()"
   ]
  },
  {
   "cell_type": "code",
   "execution_count": 24,
   "id": "af5b5565",
   "metadata": {},
   "outputs": [],
   "source": [
    "# get the id of the corresponding graph\n",
    "def get_graph_id(graphname):\n",
    "    # get the id from the graph\n",
    "    cr.execute(f\"\"\"SELECT Id FROM graph_information WHERE Graph_Name = '{graphname}' \"\"\")\n",
    "    graphId = cr.fetchone()\n",
    "    graphId = graphId[0]\n",
    "    return graphId"
   ]
  },
  {
   "cell_type": "code",
   "execution_count": 25,
   "id": "f1254fcb",
   "metadata": {},
   "outputs": [],
   "source": [
    "# check if the node is already in the db\n",
    "def node_in_graph_coor(node):\n",
    "\n",
    "    sql_instruction = \"\"\"\n",
    "    SELECT nodeNr FROM graph_coordinates\n",
    "    \"\"\"\n",
    "    \n",
    "    cr.execute(sql_instruction)\n",
    "    content = cr.fetchall()\n",
    "    if (node,) in content:\n",
    "        return True\n",
    "    else:\n",
    "        return False"
   ]
  },
  {
   "cell_type": "code",
   "execution_count": 26,
   "id": "565896a9",
   "metadata": {},
   "outputs": [],
   "source": [
    "# check if the edge is already saved in the database\n",
    "def edge_in_graph_coor(edge_start, edge_end):\n",
    "\n",
    "    sql_instruction = \"\"\"\n",
    "    SELECT edgeStart,edgeEnd FROM graph_coordinates\n",
    "    \"\"\"\n",
    "\n",
    "    cr.execute(sql_instruction)\n",
    "    content = cr.fetchall()\n",
    "    if (edge_start,edge_end) in content:\n",
    "        return True\n",
    "    else:\n",
    "        return False"
   ]
  },
  {
   "cell_type": "code",
   "execution_count": 27,
   "id": "b2eb4bbf",
   "metadata": {},
   "outputs": [],
   "source": [
    "def NodeOrNeighbour_in_db(node, neighbour):\n",
    "    sql_instruction = \"\"\"\n",
    "    SELECT FirstNode, SecondNode FROM node_neighbours\n",
    "    \"\"\"\n",
    "    \n",
    "    cr.execute(sql_instruction)\n",
    "    content = cr.fetchall()\n",
    "    if (node,neighbour) in content or (neighbour,node) in content:\n",
    "        return True\n",
    "    else:\n",
    "        return False"
   ]
  },
  {
   "cell_type": "code",
   "execution_count": 28,
   "id": "03a809c2",
   "metadata": {},
   "outputs": [],
   "source": [
    "def add_neighbours_to_DB(graph):\n",
    "    nodes = graph.nodes()\n",
    "    for node in nodes:\n",
    "        neighbours = list(graph.neighbors(node))\n",
    "        for neighbour in neighbours:\n",
    "            if not NodeOrNeighbour_in_db(node, neighbour):\n",
    "                values = str((node, neighbour))\n",
    "                sql_instruction = f\"\"\"INSERT INTO node_neighbours\n",
    "                                    (FirstNode, SecondNode)\n",
    "                                    VALUES {values}\n",
    "                                    ;\"\"\"\n",
    "                cr.execute(sql_instruction)\n",
    "                connection.commit()"
   ]
  },
  {
   "cell_type": "code",
   "execution_count": 29,
   "id": "b8341dca",
   "metadata": {},
   "outputs": [],
   "source": [
    "# add the nodes coordinates and centroid coordinates to db\n",
    "def add_nodes_to_db(graph):\n",
    "    nodes = graph.nodes()\n",
    "    graphId = get_graph_id('Exploration_Graph')\n",
    "    graph_element_type = 'Node'\n",
    "    # go through all nodes of the graph\n",
    "    for node in nodes:\n",
    "        if not node_in_graph_coor(node):\n",
    "            pts = nodes[node]['pts']\n",
    "            radius = nodes[node]['r']\n",
    "            # save coordinates to db\n",
    "            values = (str((graphId, graph_element_type, node, nodes[node]['o'][0], nodes[node]['o'][1], radius, point[0], \n",
    "                           point[1])) for point in pts)\n",
    "\n",
    "            sql_instruction = f\"\"\"INSERT INTO graph_coordinates\n",
    "                                (GraphId, graph_element_type, nodeNr, nodeCentroid_x, nodeCentroid_z,nodeRadius, X_Coor, Z_Coor)\n",
    "                                VALUES {','.join(values)}\n",
    "                                ;\"\"\"\n",
    "            cr.execute(sql_instruction)\n",
    "            \n",
    "            \n",
    "            \n",
    "            connection.commit()"
   ]
  },
  {
   "cell_type": "code",
   "execution_count": 30,
   "id": "3a1b1e17",
   "metadata": {},
   "outputs": [],
   "source": [
    "# add the edges coordinates to the db\n",
    "def add_edges_to_db(graph):\n",
    "    graphId = get_graph_id('Exploration_Graph')\n",
    "    graph_element_type = 'Edge'\n",
    "    \n",
    "    # go through all edges in the graph\n",
    "    for start,end in graph.edges():\n",
    "        if not edge_in_graph_coor(start,end) and graph[start][end] != {}:\n",
    "            # get the position/ coordinates for the edge\n",
    "            pts = graph[start][end]['pts']\n",
    "            # if there is more than one coordinate save all coordinates\n",
    "            if len(pts) > 2:\n",
    "                values = (str((graphId, graph_element_type, start, end, point[0], point[1])) for point in pts)\n",
    "                sql_instruction = f\"\"\"INSERT INTO graph_coordinates\n",
    "                                    (GraphId, graph_element_type, edgeStart,edgeEnd, X_Coor, Z_Coor)\n",
    "                                    VALUES {','.join(values)}\n",
    "                                    ;\"\"\"\n",
    "                cr.execute(sql_instruction)\n",
    "                connection.commit()\n",
    "            # else save only the two coordinates\n",
    "            else:\n",
    "                values = str((graphId, graph_element_type, start, end, pts[0], pts[1]))\n",
    "\n",
    "                sql_instruction = f\"\"\"INSERT INTO graph_coordinates\n",
    "                                    (GraphId, graph_element_type, edgeStart,edgeEnd, X_Coor, Z_Coor)\n",
    "                                    VALUES {values}\n",
    "                                    ;\"\"\"\n",
    "                cr.execute(sql_instruction)\n",
    "            connection.commit()"
   ]
  },
  {
   "cell_type": "code",
   "execution_count": 31,
   "id": "35a1424f",
   "metadata": {},
   "outputs": [],
   "source": [
    "# get nodes and radius from db\n",
    "def get_Nodes_and_Radius():\n",
    "    sql_instruction = \"\"\" SELECT Nodes, Radius FROM nodes_radius\"\"\"\n",
    "    cr.execute(sql_instruction)\n",
    "    nodes_data = cr.fetchall()\n",
    "\n",
    "    nodes = list(list(zip(*nodes_data))[0])\n",
    "    r = list(list(zip(*nodes_data))[1])\n",
    "    radius_list = dict(zip(*(nodes,r)))\n",
    "\n",
    "    return radius_list"
   ]
  },
  {
   "cell_type": "code",
   "execution_count": 32,
   "id": "954d963a",
   "metadata": {},
   "outputs": [],
   "source": [
    "# get mask from database\n",
    "def get_graph_mask():\n",
    "    sql_instruction = \"\"\" SELECT Row, Column,Value FROM mask_information\"\"\"\n",
    "    cr.execute(sql_instruction)\n",
    "    mask_values = cr.fetchall()\n",
    "\n",
    "    # recreate mask from database\n",
    "    last_row = 0\n",
    "    mask_values_current_row = []\n",
    "    mask_values_complete = []\n",
    "    for i in mask_values:\n",
    "        if i[0] == last_row:\n",
    "            mask_values_current_row.append(i[2])\n",
    "        else:\n",
    "            mask_values_complete.append(mask_values_current_row)\n",
    "            mask_values_current_row = [i[2]]\n",
    "        last_row = i[0]\n",
    "\n",
    "    mask = np.asarray(mask_values_complete)\n",
    "    return mask"
   ]
  },
  {
   "cell_type": "code",
   "execution_count": 33,
   "id": "06db821b",
   "metadata": {},
   "outputs": [],
   "source": [
    "# rebuild the graph from the databank\n",
    "def build_graph(mask, radius_list):\n",
    "    skeleton = skeletonize(mask)\n",
    "\n",
    "    temp_graph = sknw.build_sknw(skeleton)\n",
    "    nx.set_node_attributes(temp_graph, radius_list, \"r\")\n",
    "    temp_graph.add_edge(96,104)\n",
    "    graph = temp_graph.copy()\n",
    "    return graph"
   ]
  },
  {
   "cell_type": "code",
   "execution_count": 34,
   "id": "1fb89bec",
   "metadata": {},
   "outputs": [],
   "source": [
    "create_graph_coor_db_table()\n",
    "create_node_neighbours_table()\n",
    "\n",
    "radius_list = get_Nodes_and_Radius()\n",
    "mask = get_graph_mask()\n",
    "graph = build_graph(mask, radius_list)\n",
    "start_point = [76,60]\n",
    "\n",
    "add_nodes_to_db(graph)\n",
    "add_edges_to_db(graph)\n",
    "add_neighbours_to_DB(graph)"
   ]
  },
  {
   "cell_type": "code",
   "execution_count": 35,
   "id": "c8d6d0e6",
   "metadata": {},
   "outputs": [],
   "source": [
    "##nodes = graph.nodes()\n",
    "#max_count_neighbours = 0\n",
    "##count_neighbours = None\n",
    "#for node in graph.nodes():\n",
    "#    neighbours = list(graph.neighbors(node))\n",
    "#    count_neighbours = 0\n",
    "#    for neighbour in neighbours:\n",
    "#        count_neighbours += 1\n",
    "#        if count_neighbours > max_count_neighbours:\n",
    "#            print(\"Node with most neighbours so far: \" + str(node))\n",
    "#            max_count_neighbours = count_neighbours\n",
    "#            print(max_count_neighbours)"
   ]
  },
  {
   "cell_type": "code",
   "execution_count": 36,
   "id": "8251f17c",
   "metadata": {},
   "outputs": [],
   "source": [
    "connection.close()"
   ]
  },
  {
   "cell_type": "code",
   "execution_count": null,
   "id": "1aa30c4f",
   "metadata": {},
   "outputs": [],
   "source": []
  }
 ],
 "metadata": {
  "kernelspec": {
   "display_name": "Python 3 (ipykernel)",
   "language": "python",
   "name": "python3"
  },
  "language_info": {
   "codemirror_mode": {
    "name": "ipython",
    "version": 3
   },
   "file_extension": ".py",
   "mimetype": "text/x-python",
   "name": "python",
   "nbconvert_exporter": "python",
   "pygments_lexer": "ipython3",
   "version": "3.9.7"
  }
 },
 "nbformat": 4,
 "nbformat_minor": 5
}
